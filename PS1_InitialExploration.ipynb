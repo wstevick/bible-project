{
 "cells": [
  {
   "cell_type": "markdown",
   "id": "965a1efc",
   "metadata": {},
   "source": [
    "# Initial Exploration of Biblical Texts\n",
    "\n",
    "Name: \n",
    "\n",
    "Date: "
   ]
  },
  {
   "cell_type": "markdown",
   "id": "6c81735e",
   "metadata": {},
   "source": [
    "This problem set must accomplish the following tasks:\n",
    "1. Read in 'SF_2009-01-20_GRC_TISCHENDORF_(TISCHENDORF GREEK NT(STRONGS)).xml' and save data to a dataframe (one word per row).\n",
    "2. Parse the rmac codes.\n",
    "3. Read in 'strongs-dictionary.xhtml' and save data to a dataframe (one term per row).\n",
    "4. Compute top 50 lemmas by frequency\n",
    "\n",
    "**Zipf's law**: in natural language, the frequency of a word is inversely proportion to its rank. e.g. the second more frequent word occurs half as often as the first most frequent word. So the top few words cover a huge fraction of the text.\n",
    "If you have $n$ total tokens and sorted counts $f_1, f_2, \\ldots, f_3$, the coverage of the first k terms is $C_k = \\frac{\\sum_{i=1}^k f_i}{n}$\n",
    "The ideal Zipf prediction is $p(k) \\propto 1/k$. For a finite vocabulary size of $n$, the ideal Zipf prediction is $p(k) = \\frac{1/k}{\\sum_{i=1}^n 1/i}$\n",
    "\n",
    "6. Plot the coverage of the top 20 lemmas and list them in a table along with their Strong's definitions. On this same plot, plot the ideal Zipf prediction for a finite vocabulary size.\n",
    "7. Identify a way to drop out the content-less words and then plot the coverage of these new top 20 lemmas and list them in a table along with their Strong's definitions. On this same plot, plot the ideal Zipf prediction for a finite vocabulary size.\n",
    "\n",
    "8. Pickle your dataframes."
   ]
  },
  {
   "cell_type": "markdown",
   "id": "622cb024",
   "metadata": {},
   "source": []
  }
 ],
 "metadata": {
  "kernelspec": {
   "display_name": "Python 3 (ipykernel)",
   "language": "python",
   "name": "python3"
  },
  "language_info": {
   "codemirror_mode": {
    "name": "ipython",
    "version": 3
   },
   "file_extension": ".py",
   "mimetype": "text/x-python",
   "name": "python",
   "nbconvert_exporter": "python",
   "pygments_lexer": "ipython3",
   "version": "3.10.12"
  }
 },
 "nbformat": 4,
 "nbformat_minor": 5
}
